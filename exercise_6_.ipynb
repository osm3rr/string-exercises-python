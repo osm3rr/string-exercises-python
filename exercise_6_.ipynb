{
 "cells": [
  {
   "cell_type": "markdown",
   "metadata": {},
   "source": [
    "# Exercise 6\n",
    "Write a program that asks the user to enter a string s and then converts s to lowercase, re-\n",
    "moves all the periods and commas from s , and prints the resulting string."
   ]
  },
  {
   "cell_type": "code",
   "execution_count": 26,
   "metadata": {},
   "outputs": [
    {
     "name": "stdout",
     "output_type": "stream",
     "text": [
      "Este, es. Otro, Caso.\n",
      "este es otro caso\n"
     ]
    }
   ],
   "source": [
    "# Solution\n",
    "string = input( \"Ingrese una cadena: \" )\n",
    "\n",
    "lowercase_string = string.lower()\n",
    "\n",
    "length_string = len( lowercase_string )\n",
    "\n",
    "\n",
    "for character in range( length_string ):\n",
    "    if lowercase_string[ character ] == '.':\n",
    "        new_string_dot = lowercase_string.replace(\".\", \"\")\n",
    "            \n",
    "        for character in range( len( new_string_dot ) ):\n",
    "            if new_string_dot[ character ] == ',':\n",
    "                new_string_dot_comma = new_string_dot.replace(\",\", \"\")\n",
    "\n",
    "print(string)\n",
    "print( new_string_dot_comma )"
   ]
  }
 ],
 "metadata": {
  "interpreter": {
   "hash": "3313d7862e35f23cb796a0d5e1a05f5386948db6518b51457360428deb8d3fb3"
  },
  "kernelspec": {
   "display_name": "Python 3.8.3 64-bit ('base': conda)",
   "language": "python",
   "name": "python3"
  },
  "language_info": {
   "name": "python",
   "version": "3.8.3"
  },
  "orig_nbformat": 4
 },
 "nbformat": 4,
 "nbformat_minor": 2
}
