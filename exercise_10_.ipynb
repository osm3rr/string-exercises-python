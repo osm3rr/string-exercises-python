{
 "cells": [
  {
   "cell_type": "markdown",
   "metadata": {},
   "source": [
    "# Exercise 10\n",
    "Write a program that asks the user to enter a string, then prints out each letter of the string\n",
    "doubled and on a separate line. For instance, if the user entered HEY , the output would be\n",
    "* HH\n",
    "* EE\n",
    "* YY"
   ]
  },
  {
   "cell_type": "code",
   "execution_count": 1,
   "metadata": {},
   "outputs": [
    {
     "name": "stdout",
     "output_type": "stream",
     "text": [
      "hh\n",
      "ee\n",
      "ll\n",
      "ll\n",
      "oo\n"
     ]
    }
   ],
   "source": [
    "# Solution\n",
    "input_string = input( \"Enter a word: \" )\n",
    "\n",
    "# we define a constant\n",
    "REPEAT_WORD = 2\n",
    "\n",
    "string_length = len( input_string )\n",
    "\n",
    "for letter in range( string_length ):\n",
    "    print( input_string[ letter ] * REPEAT_WORD) "
   ]
  }
 ],
 "metadata": {
  "interpreter": {
   "hash": "3313d7862e35f23cb796a0d5e1a05f5386948db6518b51457360428deb8d3fb3"
  },
  "kernelspec": {
   "display_name": "Python 3.8.3 64-bit ('base': conda)",
   "language": "python",
   "name": "python3"
  },
  "language_info": {
   "codemirror_mode": {
    "name": "ipython",
    "version": 3
   },
   "file_extension": ".py",
   "mimetype": "text/x-python",
   "name": "python",
   "nbconvert_exporter": "python",
   "pygments_lexer": "ipython3",
   "version": "3.8.3"
  },
  "orig_nbformat": 4
 },
 "nbformat": 4,
 "nbformat_minor": 2
}
