{
 "cells": [
  {
   "cell_type": "markdown",
   "metadata": {},
   "source": [
    "# Exercise 2\n",
    "A simple way to estimate the number of words in a string is to count the number of spaces\n",
    "in the string. Write a program that asks the user for a string and returns an estimate of how\n",
    "many words are in the string."
   ]
  },
  {
   "cell_type": "code",
   "execution_count": 6,
   "metadata": {},
   "outputs": [
    {
     "name": "stdout",
     "output_type": "stream",
     "text": [
      "La cantidad de palabras es de: 2\n"
     ]
    }
   ],
   "source": [
    "# Solution\n",
    "string = input( \"Ingrese una frase: \" )\n",
    "\n",
    "amount_words = 1\n",
    "length_string = len( string )\n",
    "\n",
    "for character in range( length_string ):\n",
    "    if string[ character ] == \" \":\n",
    "        amount_words += 1\n",
    "\n",
    "print( f'La cantidad de palabras es de: {amount_words}' )"
   ]
  }
 ],
 "metadata": {
  "interpreter": {
   "hash": "3313d7862e35f23cb796a0d5e1a05f5386948db6518b51457360428deb8d3fb3"
  },
  "kernelspec": {
   "display_name": "Python 3.8.3 64-bit ('base': conda)",
   "language": "python",
   "name": "python3"
  },
  "language_info": {
   "codemirror_mode": {
    "name": "ipython",
    "version": 3
   },
   "file_extension": ".py",
   "mimetype": "text/x-python",
   "name": "python",
   "nbconvert_exporter": "python",
   "pygments_lexer": "ipython3",
   "version": "3.8.3"
  },
  "orig_nbformat": 4
 },
 "nbformat": 4,
 "nbformat_minor": 2
}
