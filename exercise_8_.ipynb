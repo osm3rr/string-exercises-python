{
 "cells": [
  {
   "cell_type": "markdown",
   "metadata": {},
   "source": [
    "# Exercise 8\n",
    "At a certain school, student email addresses end with @student.college.edu , while pro-\n",
    "fessor email addresses end with @prof.college.edu . Write a program that first asks the\n",
    "user how many email addresses they will be entering, and then has the user enter those ad-\n",
    "dresses. After all the email addresses are entered, the program should print out a message\n",
    "indicating either that all the addresses are student addresses or that there were some profes-\n",
    "sor addresses entered."
   ]
  },
  {
   "cell_type": "code",
   "execution_count": 1,
   "metadata": {},
   "outputs": [
    {
     "name": "stdout",
     "output_type": "stream",
     "text": [
      "Prof mail: 1\n",
      "Student mail: 1\n",
      "Invalid mail: 1\n"
     ]
    }
   ],
   "source": [
    "# Solution\n",
    "\n",
    "# input: how many addresses\n",
    "number_addresses = int( input( \"Enter how many addresses you need: \" ) )\n",
    "\n",
    "# Counters\n",
    "prof_email = 0\n",
    "student_email = 0\n",
    "invalid_email = 0\n",
    "\n",
    "# Logic\n",
    "for address in range( number_addresses ):\n",
    "    email = input( \"Enter email: \" )\n",
    "    \n",
    "    if \"prof\" in email:\n",
    "        prof_email += 1\n",
    "        \n",
    "    elif \"student\" in email:\n",
    "        student_email += 1\n",
    "        \n",
    "    else:\n",
    "        invalid_email += 1\n",
    "\n",
    "# Output\n",
    "print(f'Prof mail: {prof_email}')\n",
    "print(f'Student mail: {student_email}')\n",
    "print(f'Invalid mail: {invalid_email}')\n"
   ]
  },
  {
   "cell_type": "code",
   "execution_count": 2,
   "metadata": {},
   "outputs": [
    {
     "name": "stdout",
     "output_type": "stream",
     "text": [
      "1\n"
     ]
    }
   ],
   "source": []
  }
 ],
 "metadata": {
  "interpreter": {
   "hash": "3313d7862e35f23cb796a0d5e1a05f5386948db6518b51457360428deb8d3fb3"
  },
  "kernelspec": {
   "display_name": "Python 3.8.3 64-bit ('base': conda)",
   "language": "python",
   "name": "python3"
  },
  "language_info": {
   "codemirror_mode": {
    "name": "ipython",
    "version": 3
   },
   "file_extension": ".py",
   "mimetype": "text/x-python",
   "name": "python",
   "nbconvert_exporter": "python",
   "pygments_lexer": "ipython3",
   "version": "3.8.3"
  },
  "orig_nbformat": 4
 },
 "nbformat": 4,
 "nbformat_minor": 2
}
