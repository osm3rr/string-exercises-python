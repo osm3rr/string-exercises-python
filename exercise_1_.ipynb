{
 "cells": [
  {
   "cell_type": "markdown",
   "metadata": {},
   "source": [
    "# Exercise 1\n",
    "Write a program that asks the user to enter a string. The program should then print the\n",
    "following:\n",
    "* (a) The total number of characters in the string\n",
    "* (b) The string repeated 10 times\n",
    "* (c) The first character of the string (remember that string indices start at 0)\n",
    "* (d) The first three characters of the string\n",
    "* (e) The last three characters of the string\n",
    "* (f) The string backwards\n",
    "* (g) The seventh character of the string if the string is long enough and a message otherwise\n",
    "* (h) The string with its first and last characters removed\n",
    "* (i) The string in all caps\n",
    "* (j) The string with every a replaced with an e\n"
   ]
  },
  {
   "cell_type": "code",
   "execution_count": 1,
   "metadata": {},
   "outputs": [
    {
     "name": "stdout",
     "output_type": "stream",
     "text": [
      "The length of the strig is: 4\n"
     ]
    }
   ],
   "source": [
    "# Solution a\n",
    "\n",
    "word_in = input( \"Enter a word: \" )\n",
    "\n",
    "length_word = len( word_in )\n",
    "\n",
    "print( f'The length of the string is: {length_word}' )"
   ]
  },
  {
   "cell_type": "code",
   "execution_count": 3,
   "metadata": {},
   "outputs": [
    {
     "name": "stdout",
     "output_type": "stream",
     "text": [
      "casa\n",
      "casa\n",
      "casa\n",
      "casa\n",
      "casa\n",
      "casa\n",
      "casa\n",
      "casa\n",
      "casa\n",
      "casa\n"
     ]
    }
   ],
   "source": [
    "# Sol b\n",
    "word_in = input( \"Enter a word: \" )\n",
    "\n",
    "for item in range( 10 ):\n",
    "    print( word_in )"
   ]
  },
  {
   "cell_type": "code",
   "execution_count": 2,
   "metadata": {},
   "outputs": [
    {
     "name": "stdout",
     "output_type": "stream",
     "text": [
      "The first character of \"hello\" is: \"h\"\n"
     ]
    }
   ],
   "source": [
    "# Sol c\n",
    "word_in = input( \"Enter a word: \" )\n",
    "\n",
    "print( f'The first character of \"{word_in}\" is: \"{word_in[ 0 ]}\"' )"
   ]
  },
  {
   "cell_type": "code",
   "execution_count": 3,
   "metadata": {},
   "outputs": [
    {
     "name": "stdout",
     "output_type": "stream",
     "text": [
      "The first three characters of the string \"hello\" are: \"hel\"\n"
     ]
    }
   ],
   "source": [
    "# Sol d\n",
    "word_in = input( \"Enter a word: \" )\n",
    "\n",
    "print( f'The first three characters of the string \"{word_in}\" are: \"{word_in[ :3 ]}\"' )"
   ]
  },
  {
   "cell_type": "code",
   "execution_count": 4,
   "metadata": {},
   "outputs": [
    {
     "name": "stdout",
     "output_type": "stream",
     "text": [
      "The last three characters of the string hello are: \"llo\"\n"
     ]
    }
   ],
   "source": [
    "# Sol e\n",
    "word_in = input( \"Enter a word: \" )\n",
    "\n",
    "print( f'The last three characters of the string {word_in} are: \"{word_in[ -3: ]}\"' )"
   ]
  },
  {
   "cell_type": "code",
   "execution_count": 6,
   "metadata": {},
   "outputs": [
    {
     "name": "stdout",
     "output_type": "stream",
     "text": [
      "The string backwards is: olleh\n"
     ]
    }
   ],
   "source": [
    "# Sol f\n",
    "word_in = input( \"Enter a word: \" )\n",
    "\n",
    "print( f'The string backwards is: {word_in[::-1]}' )"
   ]
  },
  {
   "cell_type": "code",
   "execution_count": 17,
   "metadata": {},
   "outputs": [
    {
     "name": "stdout",
     "output_type": "stream",
     "text": [
      "El séptimo caracter de parabavire es: \"v\"\n"
     ]
    }
   ],
   "source": [
    "# Sol g\n",
    "word_in = input( \"Enter a word: \" )\n",
    "\n",
    "length_string = len( word_in )\n",
    "\n",
    "if length_string >= 7:\n",
    "    print( f'The seventh character of the string \"{word_in}\" is: \"{word_in[ 6 ]}\"' )\n",
    "    \n",
    "else:\n",
    "    print( f'\"{word_in}\" has less than seven characters' )"
   ]
  },
  {
   "cell_type": "code",
   "execution_count": 5,
   "metadata": {},
   "outputs": [
    {
     "name": "stdout",
     "output_type": "stream",
     "text": [
      "The string backwards is: ell\n"
     ]
    }
   ],
   "source": [
    "# Sol h\n",
    "word_in = input( \"Enter a word: \" )\n",
    "\n",
    "\n",
    "print( f'The string with its first and last characters removed: {word_in[ 1:-1 ]}' )\n"
   ]
  },
  {
   "cell_type": "code",
   "execution_count": 25,
   "metadata": {},
   "outputs": [
    {
     "name": "stdout",
     "output_type": "stream",
     "text": [
      "CASA\n"
     ]
    }
   ],
   "source": [
    "# Sol i\n",
    "word_in = input( \"Enter a word: \" )\n",
    "\n",
    "capital_word = word_in.upper()\n",
    "\n",
    "print( capital_word )"
   ]
  },
  {
   "cell_type": "code",
   "execution_count": 26,
   "metadata": {},
   "outputs": [
    {
     "name": "stdout",
     "output_type": "stream",
     "text": [
      "cese\n"
     ]
    }
   ],
   "source": [
    "# Sol j\n",
    "word_in = input( \"Enter a word: \" )\n",
    "\n",
    "new_word = word_in.replace( \"a\", \"e\" )\n",
    "\n",
    "print( f'The new word is: {new_word}' )"
   ]
  }
 ],
 "metadata": {
  "interpreter": {
   "hash": "3313d7862e35f23cb796a0d5e1a05f5386948db6518b51457360428deb8d3fb3"
  },
  "kernelspec": {
   "display_name": "Python 3.8.3 64-bit ('base': conda)",
   "language": "python",
   "name": "python3"
  },
  "language_info": {
   "codemirror_mode": {
    "name": "ipython",
    "version": 3
   },
   "file_extension": ".py",
   "mimetype": "text/x-python",
   "name": "python",
   "nbconvert_exporter": "python",
   "pygments_lexer": "ipython3",
   "version": "3.8.3"
  },
  "orig_nbformat": 4
 },
 "nbformat": 4,
 "nbformat_minor": 2
}
