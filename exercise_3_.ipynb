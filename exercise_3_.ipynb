{
 "cells": [
  {
   "cell_type": "markdown",
   "metadata": {},
   "source": [
    "# Exercise 3\n",
    "People often forget closing parentheses when entering formulas. Write a program that asks the user to enter a formula and prints out whether the formula has the same number of opening and closing parentheses."
   ]
  },
  {
   "cell_type": "code",
   "execution_count": 3,
   "metadata": {},
   "outputs": [
    {
     "name": "stdout",
     "output_type": "stream",
     "text": [
      "Falta un paréntesis de apertura en \"e+r)+t-(12+u)\"\n"
     ]
    }
   ],
   "source": [
    "# Solution\n",
    "formula = input( \"Enter a formula: \" )\n",
    "\n",
    "length_formula = len( formula )\n",
    "\n",
    "opening_parentheses = 0\n",
    "closing_parentheses = 0\n",
    "\n",
    "for character in range( length_formula ):\n",
    "    \n",
    "    if formula[ character ] == '(':\n",
    "        opening_parentheses += 1\n",
    "        \n",
    "    if formula[ character ] == ')':\n",
    "        closing_parentheses += 1\n",
    "\n",
    "if opening_parentheses > closing_parentheses:\n",
    "    print( f'Falta cerrar un paréntesis en \"{formula}\"' )\n",
    "\n",
    "elif opening_parentheses < closing_parentheses:\n",
    "    print( f'Falta un paréntesis de apertura en \"{formula}\"' )\n",
    "else:\n",
    "    print( \"Misma cantidad de parentesis, ¡todo ok!\" )\n"
   ]
  }
 ],
 "metadata": {
  "interpreter": {
   "hash": "3313d7862e35f23cb796a0d5e1a05f5386948db6518b51457360428deb8d3fb3"
  },
  "kernelspec": {
   "display_name": "Python 3.8.3 64-bit ('base': conda)",
   "language": "python",
   "name": "python3"
  },
  "language_info": {
   "codemirror_mode": {
    "name": "ipython",
    "version": 3
   },
   "file_extension": ".py",
   "mimetype": "text/x-python",
   "name": "python",
   "nbconvert_exporter": "python",
   "pygments_lexer": "ipython3",
   "version": "3.8.3"
  },
  "orig_nbformat": 4
 },
 "nbformat": 4,
 "nbformat_minor": 2
}
