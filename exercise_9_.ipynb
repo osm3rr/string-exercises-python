{
 "cells": [
  {
   "cell_type": "markdown",
   "metadata": {},
   "source": [
    "# Exercise 9\n",
    "Ask the user for a number and then print the following, where the pattern ends at the number\n",
    "that the user enters.\n",
    "* 1\n",
    "    * 2\n",
    "      * 3\n",
    "        * 4"
   ]
  },
  {
   "cell_type": "code",
   "execution_count": 6,
   "metadata": {},
   "outputs": [
    {
     "name": "stdout",
     "output_type": "stream",
     "text": [
      "   1\n",
      "     2\n",
      "       3\n",
      "         4\n",
      "           5\n"
     ]
    }
   ],
   "source": [
    "# Solution\n",
    "number = int( input( \"Enter a number: \" ) )\n",
    "\n",
    "space = \"  \"\n",
    "\n",
    "for num in range( 1, number + 1):\n",
    "    print( f'{space * num} {num}')"
   ]
  }
 ],
 "metadata": {
  "interpreter": {
   "hash": "3313d7862e35f23cb796a0d5e1a05f5386948db6518b51457360428deb8d3fb3"
  },
  "kernelspec": {
   "display_name": "Python 3.8.3 64-bit ('base': conda)",
   "language": "python",
   "name": "python3"
  },
  "language_info": {
   "codemirror_mode": {
    "name": "ipython",
    "version": 3
   },
   "file_extension": ".py",
   "mimetype": "text/x-python",
   "name": "python",
   "nbconvert_exporter": "python",
   "pygments_lexer": "ipython3",
   "version": "3.8.3"
  },
  "orig_nbformat": 4
 },
 "nbformat": 4,
 "nbformat_minor": 2
}
