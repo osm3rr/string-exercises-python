{
 "cells": [
  {
   "cell_type": "markdown",
   "metadata": {},
   "source": [
    "# Exercise 4\n",
    "Write a program that asks the user to enter a word and prints out whether that word contains any vowels."
   ]
  },
  {
   "cell_type": "code",
   "execution_count": 4,
   "metadata": {},
   "outputs": [
    {
     "name": "stdout",
     "output_type": "stream",
     "text": [
      "No hay vocal\n"
     ]
    }
   ],
   "source": [
    "word = input( \"Ingrese una palabra: \" )\n",
    "\n",
    "length_word = len( word )\n",
    "vowel = False\n",
    "\n",
    "for character in range( length_word ):\n",
    "    if  (word[character] == \"a\") or \\\n",
    "        (word[character] == \"e\") or \\\n",
    "        (word[character] == \"i\") or \\\n",
    "        (word[character] == \"o\") or \\\n",
    "        (word[character] == \"u\"):\n",
    "            vowel = True\n",
    "\n",
    "if vowel == True:\n",
    "    print( \"Habemus vocal\" )\n",
    "else:\n",
    "    print(\"No hay vocal\")"
   ]
  }
 ],
 "metadata": {
  "interpreter": {
   "hash": "3313d7862e35f23cb796a0d5e1a05f5386948db6518b51457360428deb8d3fb3"
  },
  "kernelspec": {
   "display_name": "Python 3.8.3 64-bit ('base': conda)",
   "language": "python",
   "name": "python3"
  },
  "language_info": {
   "codemirror_mode": {
    "name": "ipython",
    "version": 3
   },
   "file_extension": ".py",
   "mimetype": "text/x-python",
   "name": "python",
   "nbconvert_exporter": "python",
   "pygments_lexer": "ipython3",
   "version": "3.8.3"
  },
  "orig_nbformat": 4
 },
 "nbformat": 4,
 "nbformat_minor": 2
}
